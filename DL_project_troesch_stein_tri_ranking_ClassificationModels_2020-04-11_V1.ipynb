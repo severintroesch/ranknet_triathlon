{
 "cells": [
  {
   "cell_type": "markdown",
   "metadata": {},
   "source": [
    "\n",
    "### Import Base Packages"
   ]
  },
  {
   "cell_type": "code",
   "execution_count": 1,
   "metadata": {},
   "outputs": [],
   "source": [
    "%matplotlib inline\n",
    "import matplotlib.pyplot as plt\n",
    "\n",
    "import pandas as pd\n",
    "import os\n",
    "from pathlib import Path\n",
    "import chardet\n",
    "import numpy as np"
   ]
  },
  {
   "cell_type": "markdown",
   "metadata": {},
   "source": [
    "### Define Working Directory and get Filesize"
   ]
  },
  {
   "cell_type": "code",
   "execution_count": 2,
   "metadata": {},
   "outputs": [
    {
     "data": {
      "text/plain": [
       "2099333"
      ]
     },
     "execution_count": 2,
     "metadata": {},
     "output_type": "execute_result"
    }
   ],
   "source": [
    "data_folder = Path(r\"C:\\Users\\finns\\Documents\\CAS Machine Intelligence_Cdrive\\Deep Learning\\Projekt\")\n",
    "os.chdir(data_folder)\n",
    "os.path.getsize('tri_Data.csv')"
   ]
  },
  {
   "cell_type": "markdown",
   "metadata": {},
   "source": [
    "### Determine Encoding of File"
   ]
  },
  {
   "cell_type": "code",
   "execution_count": 3,
   "metadata": {},
   "outputs": [
    {
     "name": "stdout",
     "output_type": "stream",
     "text": [
      "ISO-8859-1\n"
     ]
    }
   ],
   "source": [
    "data_folder = Path(r\"C:\\Users\\finns\\Documents\\CAS Machine Intelligence_Cdrive\\Deep Learning\\Projekt\")\n",
    "os.chdir(data_folder)\n",
    "\n",
    "rawdata = open(\"tri_Data.csv\", 'rb').read(500000) #Judge format according to first 500k bytes\n",
    "result = chardet.detect(rawdata)\n",
    "charenc = result['encoding']\n",
    "print(charenc) #FileEncoding is ISO-8859-1 (Latin-1)"
   ]
  },
  {
   "cell_type": "markdown",
   "metadata": {},
   "source": [
    "### Import File and Recode Variable Classes"
   ]
  },
  {
   "cell_type": "code",
   "execution_count": 4,
   "metadata": {},
   "outputs": [
    {
     "name": "stdout",
     "output_type": "stream",
     "text": [
      "<class 'pandas.core.frame.DataFrame'>\n",
      "RangeIndex: 30319 entries, 0 to 30318\n",
      "Data columns (total 12 columns):\n",
      " #   Column     Non-Null Count  Dtype  \n",
      "---  ------     --------------  -----  \n",
      " 0   subj_id    30319 non-null  int64  \n",
      " 1   yob        29168 non-null  float64\n",
      " 2   age_y      20926 non-null  float64\n",
      " 3   nat        30319 non-null  object \n",
      " 4   gender     30319 non-null  object \n",
      " 5   race_id    30319 non-null  int64  \n",
      " 6   race_inf   30319 non-null  object \n",
      " 7   race_date  21761 non-null  object \n",
      " 8   race_y     21761 non-null  float64\n",
      " 9   race_m     21761 non-null  float64\n",
      " 10  time       25975 non-null  object \n",
      " 11  rank       30319 non-null  object \n",
      "dtypes: float64(4), int64(2), object(6)\n",
      "memory usage: 2.8+ MB\n"
     ]
    }
   ],
   "source": [
    "df = pd.read_csv(\"tri_Data.csv\", sep = \";\", header = 0, encoding=charenc)\n",
    "df.info()"
   ]
  },
  {
   "cell_type": "code",
   "execution_count": 5,
   "metadata": {},
   "outputs": [],
   "source": [
    "df['race_date'] = pd.to_datetime(df['race_date'])\n",
    "df['subj_id'] = df['subj_id'].astype(str)\n",
    "df['race_id'] = df['race_id'].astype(str)\n"
   ]
  },
  {
   "cell_type": "markdown",
   "metadata": {},
   "source": [
    "### Get Overview of Dataset"
   ]
  },
  {
   "cell_type": "code",
   "execution_count": 6,
   "metadata": {
    "scrolled": true
   },
   "outputs": [
    {
     "data": {
      "text/html": [
       "<div>\n",
       "<style scoped>\n",
       "    .dataframe tbody tr th:only-of-type {\n",
       "        vertical-align: middle;\n",
       "    }\n",
       "\n",
       "    .dataframe tbody tr th {\n",
       "        vertical-align: top;\n",
       "    }\n",
       "\n",
       "    .dataframe thead th {\n",
       "        text-align: right;\n",
       "    }\n",
       "</style>\n",
       "<table border=\"1\" class=\"dataframe\">\n",
       "  <thead>\n",
       "    <tr style=\"text-align: right;\">\n",
       "      <th></th>\n",
       "      <th>subj_id</th>\n",
       "      <th>yob</th>\n",
       "      <th>age_y</th>\n",
       "      <th>nat</th>\n",
       "      <th>gender</th>\n",
       "      <th>race_id</th>\n",
       "      <th>race_inf</th>\n",
       "      <th>race_date</th>\n",
       "      <th>race_y</th>\n",
       "      <th>race_m</th>\n",
       "      <th>time</th>\n",
       "      <th>rank</th>\n",
       "    </tr>\n",
       "  </thead>\n",
       "  <tbody>\n",
       "    <tr>\n",
       "      <th>19916</th>\n",
       "      <td>1737</td>\n",
       "      <td>1981.0</td>\n",
       "      <td>NaN</td>\n",
       "      <td>ENG</td>\n",
       "      <td>Women</td>\n",
       "      <td>1141</td>\n",
       "      <td>Madrid 2009</td>\n",
       "      <td>NaT</td>\n",
       "      <td>NaN</td>\n",
       "      <td>NaN</td>\n",
       "      <td>NaN</td>\n",
       "      <td>DNF</td>\n",
       "    </tr>\n",
       "    <tr>\n",
       "      <th>5710</th>\n",
       "      <td>853</td>\n",
       "      <td>NaN</td>\n",
       "      <td>NaN</td>\n",
       "      <td>ITA</td>\n",
       "      <td>Men</td>\n",
       "      <td>314</td>\n",
       "      <td>Karlovy Vary 2016</td>\n",
       "      <td>2016-08-28</td>\n",
       "      <td>2016.0</td>\n",
       "      <td>8.0</td>\n",
       "      <td>NaN</td>\n",
       "      <td>LAP</td>\n",
       "    </tr>\n",
       "    <tr>\n",
       "      <th>23107</th>\n",
       "      <td>1038</td>\n",
       "      <td>1983.0</td>\n",
       "      <td>24.0</td>\n",
       "      <td>LUX</td>\n",
       "      <td>Women</td>\n",
       "      <td>1072</td>\n",
       "      <td>Kitzbühel 2007</td>\n",
       "      <td>2007-07-22</td>\n",
       "      <td>2007.0</td>\n",
       "      <td>7.0</td>\n",
       "      <td>01:58:16</td>\n",
       "      <td>33</td>\n",
       "    </tr>\n",
       "    <tr>\n",
       "      <th>22978</th>\n",
       "      <td>2249</td>\n",
       "      <td>1984.0</td>\n",
       "      <td>23.0</td>\n",
       "      <td>NED</td>\n",
       "      <td>Men</td>\n",
       "      <td>552</td>\n",
       "      <td>Salford 2007</td>\n",
       "      <td>2007-07-29</td>\n",
       "      <td>2007.0</td>\n",
       "      <td>7.0</td>\n",
       "      <td>NaN</td>\n",
       "      <td>DNS</td>\n",
       "    </tr>\n",
       "    <tr>\n",
       "      <th>22808</th>\n",
       "      <td>1874</td>\n",
       "      <td>1979.0</td>\n",
       "      <td>28.0</td>\n",
       "      <td>BRA</td>\n",
       "      <td>Men</td>\n",
       "      <td>653</td>\n",
       "      <td>Tiszaújváros 2007</td>\n",
       "      <td>2007-11-08</td>\n",
       "      <td>2007.0</td>\n",
       "      <td>8.0</td>\n",
       "      <td>01:49:50</td>\n",
       "      <td>24</td>\n",
       "    </tr>\n",
       "  </tbody>\n",
       "</table>\n",
       "</div>"
      ],
      "text/plain": [
       "      subj_id     yob  age_y  nat gender race_id            race_inf  \\\n",
       "19916    1737  1981.0    NaN  ENG  Women    1141         Madrid 2009   \n",
       "5710      853     NaN    NaN  ITA    Men     314   Karlovy Vary 2016   \n",
       "23107    1038  1983.0   24.0  LUX  Women    1072      Kitzbühel 2007   \n",
       "22978    2249  1984.0   23.0  NED    Men     552        Salford 2007   \n",
       "22808    1874  1979.0   28.0  BRA    Men     653   Tiszaújváros 2007   \n",
       "\n",
       "       race_date  race_y  race_m      time rank  \n",
       "19916        NaT     NaN     NaN       NaN  DNF  \n",
       "5710  2016-08-28  2016.0     8.0       NaN  LAP  \n",
       "23107 2007-07-22  2007.0     7.0  01:58:16   33  \n",
       "22978 2007-07-29  2007.0     7.0       NaN  DNS  \n",
       "22808 2007-11-08  2007.0     8.0  01:49:50   24  "
      ]
     },
     "execution_count": 6,
     "metadata": {},
     "output_type": "execute_result"
    }
   ],
   "source": [
    "df.sample(5)"
   ]
  },
  {
   "cell_type": "code",
   "execution_count": 7,
   "metadata": {},
   "outputs": [
    {
     "data": {
      "text/html": [
       "<div>\n",
       "<style scoped>\n",
       "    .dataframe tbody tr th:only-of-type {\n",
       "        vertical-align: middle;\n",
       "    }\n",
       "\n",
       "    .dataframe tbody tr th {\n",
       "        vertical-align: top;\n",
       "    }\n",
       "\n",
       "    .dataframe thead th {\n",
       "        text-align: right;\n",
       "    }\n",
       "</style>\n",
       "<table border=\"1\" class=\"dataframe\">\n",
       "  <thead>\n",
       "    <tr style=\"text-align: right;\">\n",
       "      <th></th>\n",
       "      <th>AnyNAN</th>\n",
       "      <th>SumOfNAN</th>\n",
       "      <th>UniqueEntries</th>\n",
       "    </tr>\n",
       "  </thead>\n",
       "  <tbody>\n",
       "    <tr>\n",
       "      <th>subj_id</th>\n",
       "      <td>False</td>\n",
       "      <td>0</td>\n",
       "      <td>3903</td>\n",
       "    </tr>\n",
       "    <tr>\n",
       "      <th>yob</th>\n",
       "      <td>True</td>\n",
       "      <td>1151</td>\n",
       "      <td>45</td>\n",
       "    </tr>\n",
       "    <tr>\n",
       "      <th>age_y</th>\n",
       "      <td>True</td>\n",
       "      <td>9393</td>\n",
       "      <td>33</td>\n",
       "    </tr>\n",
       "    <tr>\n",
       "      <th>nat</th>\n",
       "      <td>False</td>\n",
       "      <td>0</td>\n",
       "      <td>114</td>\n",
       "    </tr>\n",
       "    <tr>\n",
       "      <th>gender</th>\n",
       "      <td>False</td>\n",
       "      <td>0</td>\n",
       "      <td>2</td>\n",
       "    </tr>\n",
       "    <tr>\n",
       "      <th>race_id</th>\n",
       "      <td>False</td>\n",
       "      <td>0</td>\n",
       "      <td>1489</td>\n",
       "    </tr>\n",
       "    <tr>\n",
       "      <th>race_inf</th>\n",
       "      <td>False</td>\n",
       "      <td>0</td>\n",
       "      <td>745</td>\n",
       "    </tr>\n",
       "    <tr>\n",
       "      <th>race_date</th>\n",
       "      <td>True</td>\n",
       "      <td>8558</td>\n",
       "      <td>504</td>\n",
       "    </tr>\n",
       "    <tr>\n",
       "      <th>race_y</th>\n",
       "      <td>True</td>\n",
       "      <td>8558</td>\n",
       "      <td>32</td>\n",
       "    </tr>\n",
       "    <tr>\n",
       "      <th>race_m</th>\n",
       "      <td>True</td>\n",
       "      <td>8558</td>\n",
       "      <td>8</td>\n",
       "    </tr>\n",
       "    <tr>\n",
       "      <th>time</th>\n",
       "      <td>True</td>\n",
       "      <td>4344</td>\n",
       "      <td>3013</td>\n",
       "    </tr>\n",
       "    <tr>\n",
       "      <th>rank</th>\n",
       "      <td>False</td>\n",
       "      <td>0</td>\n",
       "      <td>75</td>\n",
       "    </tr>\n",
       "  </tbody>\n",
       "</table>\n",
       "</div>"
      ],
      "text/plain": [
       "           AnyNAN  SumOfNAN  UniqueEntries\n",
       "subj_id     False         0           3903\n",
       "yob          True      1151             45\n",
       "age_y        True      9393             33\n",
       "nat         False         0            114\n",
       "gender      False         0              2\n",
       "race_id     False         0           1489\n",
       "race_inf    False         0            745\n",
       "race_date    True      8558            504\n",
       "race_y       True      8558             32\n",
       "race_m       True      8558              8\n",
       "time         True      4344           3013\n",
       "rank        False         0             75"
      ]
     },
     "execution_count": 7,
     "metadata": {},
     "output_type": "execute_result"
    }
   ],
   "source": [
    "pd.DataFrame(\n",
    "    {'AnyNAN':df.isnull().any(),\n",
    "     'SumOfNAN':df.isnull().sum(axis = 0),\n",
    "     'UniqueEntries': df.nunique()\n",
    "    })"
   ]
  },
  {
   "cell_type": "markdown",
   "metadata": {},
   "source": [
    "For lots of Races there are only the first 10 Ranks registered. Furthermore, there are lots of \"special rankings\" like \"DNF => Did not Finish\" registered. "
   ]
  },
  {
   "cell_type": "code",
   "execution_count": 8,
   "metadata": {},
   "outputs": [
    {
     "data": {
      "image/png": "[encoded data removed]",
      "text/plain": [
       "<Figure size 1440x288 with 1 Axes>"
      ]
     },
     "metadata": {
      "needs_background": "light"
     },
     "output_type": "display_data"
    }
   ],
   "source": [
    "df[\"rank\"].value_counts().plot.bar(figsize=(20,4))\n",
    "plt.show()\n",
    "#DNF = Did not Finish\n",
    "#DNS = Did not Start\n",
    "#DSQ = Disqualified\n",
    "#LAP = Ueberrundet"
   ]
  },
  {
   "cell_type": "markdown",
   "metadata": {},
   "source": [
    "Below plot shows, that there are only few Persons (subj_ids), that are registered for more than 10 Triathlon Contests."
   ]
  },
  {
   "cell_type": "code",
   "execution_count": 9,
   "metadata": {},
   "outputs": [
    {
     "data": {
      "text/plain": [
       "<matplotlib.axes._subplots.AxesSubplot at 0x2455fa8bac8>"
      ]
     },
     "execution_count": 9,
     "metadata": {},
     "output_type": "execute_result"
    },
    {
     "data": {
      "image/png": "[encoded data removed]",
      "text/plain": [
       "<Figure size 432x288 with 1 Axes>"
      ]
     },
     "metadata": {
      "needs_background": "light"
     },
     "output_type": "display_data"
    }
   ],
   "source": [
    "subjRaceNum = df[\"subj_id\"].value_counts().sort_values(ascending=True)\n",
    "subjRaceNum.plot.hist(bins=100)"
   ]
  },
  {
   "cell_type": "markdown",
   "metadata": {},
   "source": [
    "Below Plot shows Age Distribution of Triathlon participants is right skewed. "
   ]
  },
  {
   "cell_type": "code",
   "execution_count": 10,
   "metadata": {},
   "outputs": [
    {
     "data": {
      "text/plain": [
       "<matplotlib.axes._subplots.AxesSubplot at 0x245600d64a8>"
      ]
     },
     "execution_count": 10,
     "metadata": {},
     "output_type": "execute_result"
    },
    {
     "data": {
      "image/png": "[encoded data removed]",
      "text/plain": [
       "<Figure size 432x288 with 1 Axes>"
      ]
     },
     "metadata": {
      "needs_background": "light"
     },
     "output_type": "display_data"
    }
   ],
   "source": [
    "# df['age_y'].value_counts().plot.bar(figsize=(20,4))\n",
    "binCount = df['age_y'].max() - df['age_y'].min()\n",
    "df['age_y'].plot.hist(bins=int(binCount), alpha=1)"
   ]
  },
  {
   "cell_type": "markdown",
   "metadata": {},
   "source": [
    "Below Histogram shows, that most races have 10 Entries or less. Only for few races there are more than 10 entries in the triathlon data. Probably there were only Top 10 Participants registered for many races."
   ]
  },
  {
   "cell_type": "code",
   "execution_count": 11,
   "metadata": {},
   "outputs": [
    {
     "data": {
      "text/plain": [
       "<matplotlib.axes._subplots.AxesSubplot at 0x24560197588>"
      ]
     },
     "execution_count": 11,
     "metadata": {},
     "output_type": "execute_result"
    },
    {
     "data": {
      "image/png": "[encoded data removed]",
      "text/plain": [
       "<Figure size 432x288 with 1 Axes>"
      ]
     },
     "metadata": {
      "needs_background": "light"
     },
     "output_type": "display_data"
    }
   ],
   "source": [
    "#Checking number of participants per Race, there seem to be lots fo races with 10 or less participants\n",
    "#Probably the collection of results isn't complete\n",
    "entriesPerRace = df.groupby(['race_id'])['subj_id'].count()\n",
    "entriesPerRace.plot.hist(bins=50, alpha=1)"
   ]
  },
  {
   "cell_type": "markdown",
   "metadata": {},
   "source": [
    "As there are some races, that have even less entries than 10, I want to check a couple of exmpales. Below table shows, that for some races indeed entries aren't complete. "
   ]
  },
  {
   "cell_type": "code",
   "execution_count": 12,
   "metadata": {
    "scrolled": true
   },
   "outputs": [
    {
     "data": {
      "text/html": [
       "<div>\n",
       "<style scoped>\n",
       "    .dataframe tbody tr th:only-of-type {\n",
       "        vertical-align: middle;\n",
       "    }\n",
       "\n",
       "    .dataframe tbody tr th {\n",
       "        vertical-align: top;\n",
       "    }\n",
       "\n",
       "    .dataframe thead th {\n",
       "        text-align: right;\n",
       "    }\n",
       "</style>\n",
       "<table border=\"1\" class=\"dataframe\">\n",
       "  <thead>\n",
       "    <tr style=\"text-align: right;\">\n",
       "      <th></th>\n",
       "      <th>subj_id</th>\n",
       "      <th>yob</th>\n",
       "      <th>age_y</th>\n",
       "      <th>nat</th>\n",
       "      <th>gender</th>\n",
       "      <th>race_id</th>\n",
       "      <th>race_inf</th>\n",
       "      <th>race_date</th>\n",
       "      <th>race_y</th>\n",
       "      <th>race_m</th>\n",
       "      <th>time</th>\n",
       "      <th>rank</th>\n",
       "    </tr>\n",
       "  </thead>\n",
       "  <tbody>\n",
       "    <tr>\n",
       "      <th>10382</th>\n",
       "      <td>966</td>\n",
       "      <td>1994.0</td>\n",
       "      <td>NaN</td>\n",
       "      <td>FRA</td>\n",
       "      <td>Men</td>\n",
       "      <td>35</td>\n",
       "      <td>Antalya 2014</td>\n",
       "      <td>NaT</td>\n",
       "      <td>NaN</td>\n",
       "      <td>NaN</td>\n",
       "      <td>01:46:52</td>\n",
       "      <td>2</td>\n",
       "    </tr>\n",
       "    <tr>\n",
       "      <th>10383</th>\n",
       "      <td>1548</td>\n",
       "      <td>1986.0</td>\n",
       "      <td>NaN</td>\n",
       "      <td>RUS</td>\n",
       "      <td>Men</td>\n",
       "      <td>35</td>\n",
       "      <td>Antalya 2014</td>\n",
       "      <td>NaT</td>\n",
       "      <td>NaN</td>\n",
       "      <td>NaN</td>\n",
       "      <td>01:47:17</td>\n",
       "      <td>3</td>\n",
       "    </tr>\n",
       "    <tr>\n",
       "      <th>10384</th>\n",
       "      <td>723</td>\n",
       "      <td>1986.0</td>\n",
       "      <td>NaN</td>\n",
       "      <td>GER</td>\n",
       "      <td>Men</td>\n",
       "      <td>35</td>\n",
       "      <td>Antalya 2014</td>\n",
       "      <td>NaT</td>\n",
       "      <td>NaN</td>\n",
       "      <td>NaN</td>\n",
       "      <td>01:48:50</td>\n",
       "      <td>10</td>\n",
       "    </tr>\n",
       "  </tbody>\n",
       "</table>\n",
       "</div>"
      ],
      "text/plain": [
       "      subj_id     yob  age_y  nat gender race_id       race_inf race_date  \\\n",
       "10382     966  1994.0    NaN  FRA    Men      35   Antalya 2014       NaT   \n",
       "10383    1548  1986.0    NaN  RUS    Men      35   Antalya 2014       NaT   \n",
       "10384     723  1986.0    NaN  GER    Men      35   Antalya 2014       NaT   \n",
       "\n",
       "       race_y  race_m      time rank  \n",
       "10382     NaN     NaN  01:46:52    2  \n",
       "10383     NaN     NaN  01:47:17    3  \n",
       "10384     NaN     NaN  01:48:50   10  "
      ]
     },
     "execution_count": 12,
     "metadata": {},
     "output_type": "execute_result"
    }
   ],
   "source": [
    "df[df['race_id']==\"35\"]\n"
   ]
  },
  {
   "cell_type": "markdown",
   "metadata": {},
   "source": [
    "### Data Cleanup and Recoding for Variable \"rank\""
   ]
  },
  {
   "cell_type": "markdown",
   "metadata": {},
   "source": [
    "Later on I want to try to forcast rank as categorical as well as a continuous variable. In case of rank as a continuous variable I will need to standardize the \"rank\" variable, because (as shown above) number of registered entries per race are vastly different. Furthermore, I want to recode all special rank entries to \"last rank\" of the respective number of entries per competition. "
   ]
  },
  {
   "cell_type": "code",
   "execution_count": 13,
   "metadata": {},
   "outputs": [],
   "source": [
    "#create variable with number of participants for each race_id\n",
    "entries = df.groupby([\"race_id\"])[\"subj_id\"].transform(\"count\")\n",
    "df['entries'] = entries\n",
    "\n",
    "# Create 2 Column Table that shows the lowest rank entry for each race Id\n",
    "idx = df['rank'].isin(['DNF','DNS','LAP','DSO','DNF/LAP','DSQ'])\n",
    "dfRaceAndRank = df.loc[-idx,['race_id','rank']]\n",
    "dfRaceAndRank['rank'] = pd.to_numeric(dfRaceAndRank['rank']) \n",
    "maxRank = dfRaceAndRank.groupby([\"race_id\"])[\"rank\"].max()\n",
    "\n",
    "#Create Dictionary for vlookup\n",
    "maxRankDict = dict(zip(maxRank.index,maxRank.values))\n",
    "\n",
    "#Create variable with maximum rank entry for each line of df\n",
    "df['maxRank']= df['race_id'].map(maxRankDict)\n",
    "\n",
    "# Some race_ids have less entries than there are ranks. In those cases fill in max rank as \"number of particpants\"\n",
    "df['participants'] = np.where(df['maxRank'] > df['entries'], df['maxRank'], df['entries'])\n",
    "\n",
    "#Replace non-numeric ranks with \"last rank\" according to number of participants\n",
    "df['rank'] = np.where(df['rank'].isin(['DNF','DNS','LAP','DSO','DNF/LAP','DSQ']), df['participants'], df['rank'])\n",
    "\n",
    "#Change Variable \"Rank\" to numeric Variable\n",
    "df['rank'] = df[['rank']].apply(pd.to_numeric)\n",
    "\n",
    "#Create Variable with normalized Rank\n",
    "df['rankNorm'] = df['rank']/df['participants']"
   ]
  },
  {
   "cell_type": "code",
   "execution_count": 14,
   "metadata": {
    "scrolled": true
   },
   "outputs": [
    {
     "data": {
      "text/plain": [
       "<matplotlib.axes._subplots.AxesSubplot at 0x24560282cc0>"
      ]
     },
     "execution_count": 14,
     "metadata": {},
     "output_type": "execute_result"
    },
    {
     "data": {
      "image/png": "[encoded data removed]",
      "text/plain": [
       "<Figure size 432x288 with 1 Axes>"
      ]
     },
     "metadata": {
      "needs_background": "light"
     },
     "output_type": "display_data"
    }
   ],
   "source": [
    "df['rankNorm'].plot.hist(bins=50, alpha=1)"
   ]
  },
  {
   "cell_type": "markdown",
   "metadata": {},
   "source": [
    "### Data Cleanup and Recoding for Variables \"race_y\" and \"race_inf\""
   ]
  },
  {
   "cell_type": "markdown",
   "metadata": {},
   "source": [
    "The variables \"race_y\" and \"age_y\" that I want to use for my models have lots of nan's"
   ]
  },
  {
   "cell_type": "code",
   "execution_count": 15,
   "metadata": {},
   "outputs": [
    {
     "data": {
      "text/html": [
       "<div>\n",
       "<style scoped>\n",
       "    .dataframe tbody tr th:only-of-type {\n",
       "        vertical-align: middle;\n",
       "    }\n",
       "\n",
       "    .dataframe tbody tr th {\n",
       "        vertical-align: top;\n",
       "    }\n",
       "\n",
       "    .dataframe thead th {\n",
       "        text-align: right;\n",
       "    }\n",
       "</style>\n",
       "<table border=\"1\" class=\"dataframe\">\n",
       "  <thead>\n",
       "    <tr style=\"text-align: right;\">\n",
       "      <th></th>\n",
       "      <th>AnyNAN</th>\n",
       "      <th>SumOfNAN</th>\n",
       "      <th>UniqueEntries</th>\n",
       "    </tr>\n",
       "  </thead>\n",
       "  <tbody>\n",
       "    <tr>\n",
       "      <th>subj_id</th>\n",
       "      <td>False</td>\n",
       "      <td>0</td>\n",
       "      <td>3903</td>\n",
       "    </tr>\n",
       "    <tr>\n",
       "      <th>yob</th>\n",
       "      <td>True</td>\n",
       "      <td>1151</td>\n",
       "      <td>45</td>\n",
       "    </tr>\n",
       "    <tr>\n",
       "      <th>age_y</th>\n",
       "      <td>True</td>\n",
       "      <td>9393</td>\n",
       "      <td>33</td>\n",
       "    </tr>\n",
       "    <tr>\n",
       "      <th>nat</th>\n",
       "      <td>False</td>\n",
       "      <td>0</td>\n",
       "      <td>114</td>\n",
       "    </tr>\n",
       "    <tr>\n",
       "      <th>gender</th>\n",
       "      <td>False</td>\n",
       "      <td>0</td>\n",
       "      <td>2</td>\n",
       "    </tr>\n",
       "    <tr>\n",
       "      <th>race_id</th>\n",
       "      <td>False</td>\n",
       "      <td>0</td>\n",
       "      <td>1489</td>\n",
       "    </tr>\n",
       "    <tr>\n",
       "      <th>race_inf</th>\n",
       "      <td>False</td>\n",
       "      <td>0</td>\n",
       "      <td>745</td>\n",
       "    </tr>\n",
       "    <tr>\n",
       "      <th>race_date</th>\n",
       "      <td>True</td>\n",
       "      <td>8558</td>\n",
       "      <td>504</td>\n",
       "    </tr>\n",
       "    <tr>\n",
       "      <th>race_y</th>\n",
       "      <td>True</td>\n",
       "      <td>8558</td>\n",
       "      <td>32</td>\n",
       "    </tr>\n",
       "    <tr>\n",
       "      <th>race_m</th>\n",
       "      <td>True</td>\n",
       "      <td>8558</td>\n",
       "      <td>8</td>\n",
       "    </tr>\n",
       "    <tr>\n",
       "      <th>time</th>\n",
       "      <td>True</td>\n",
       "      <td>4344</td>\n",
       "      <td>3013</td>\n",
       "    </tr>\n",
       "    <tr>\n",
       "      <th>rank</th>\n",
       "      <td>False</td>\n",
       "      <td>0</td>\n",
       "      <td>82</td>\n",
       "    </tr>\n",
       "    <tr>\n",
       "      <th>entries</th>\n",
       "      <td>False</td>\n",
       "      <td>0</td>\n",
       "      <td>82</td>\n",
       "    </tr>\n",
       "    <tr>\n",
       "      <th>maxRank</th>\n",
       "      <td>True</td>\n",
       "      <td>1</td>\n",
       "      <td>70</td>\n",
       "    </tr>\n",
       "    <tr>\n",
       "      <th>participants</th>\n",
       "      <td>False</td>\n",
       "      <td>0</td>\n",
       "      <td>82</td>\n",
       "    </tr>\n",
       "    <tr>\n",
       "      <th>rankNorm</th>\n",
       "      <td>False</td>\n",
       "      <td>0</td>\n",
       "      <td>1920</td>\n",
       "    </tr>\n",
       "  </tbody>\n",
       "</table>\n",
       "</div>"
      ],
      "text/plain": [
       "              AnyNAN  SumOfNAN  UniqueEntries\n",
       "subj_id        False         0           3903\n",
       "yob             True      1151             45\n",
       "age_y           True      9393             33\n",
       "nat            False         0            114\n",
       "gender         False         0              2\n",
       "race_id        False         0           1489\n",
       "race_inf       False         0            745\n",
       "race_date       True      8558            504\n",
       "race_y          True      8558             32\n",
       "race_m          True      8558              8\n",
       "time            True      4344           3013\n",
       "rank           False         0             82\n",
       "entries        False         0             82\n",
       "maxRank         True         1             70\n",
       "participants   False         0             82\n",
       "rankNorm       False         0           1920"
      ]
     },
     "execution_count": 15,
     "metadata": {},
     "output_type": "execute_result"
    }
   ],
   "source": [
    "pd.DataFrame(\n",
    "    {'AnyNAN':df.isnull().any(),\n",
    "     'SumOfNAN':df.isnull().sum(axis = 0),\n",
    "     'UniqueEntries': df.nunique()\n",
    "    })"
   ]
  },
  {
   "cell_type": "markdown",
   "metadata": {},
   "source": [
    "Looking at some examples where \"race_y\" is missing, you can see that the missing race dates can often be parsed from the race name (race_inf). Which I will do in the second chunk below."
   ]
  },
  {
   "cell_type": "code",
   "execution_count": 16,
   "metadata": {},
   "outputs": [
    {
     "data": {
      "text/html": [
       "<div>\n",
       "<style scoped>\n",
       "    .dataframe tbody tr th:only-of-type {\n",
       "        vertical-align: middle;\n",
       "    }\n",
       "\n",
       "    .dataframe tbody tr th {\n",
       "        vertical-align: top;\n",
       "    }\n",
       "\n",
       "    .dataframe thead th {\n",
       "        text-align: right;\n",
       "    }\n",
       "</style>\n",
       "<table border=\"1\" class=\"dataframe\">\n",
       "  <thead>\n",
       "    <tr style=\"text-align: right;\">\n",
       "      <th></th>\n",
       "      <th>subj_id</th>\n",
       "      <th>yob</th>\n",
       "      <th>age_y</th>\n",
       "      <th>nat</th>\n",
       "      <th>gender</th>\n",
       "      <th>race_id</th>\n",
       "      <th>race_inf</th>\n",
       "      <th>race_date</th>\n",
       "      <th>race_y</th>\n",
       "      <th>race_m</th>\n",
       "      <th>time</th>\n",
       "      <th>rank</th>\n",
       "      <th>entries</th>\n",
       "      <th>maxRank</th>\n",
       "      <th>participants</th>\n",
       "      <th>rankNorm</th>\n",
       "    </tr>\n",
       "  </thead>\n",
       "  <tbody>\n",
       "    <tr>\n",
       "      <th>3815</th>\n",
       "      <td>3492</td>\n",
       "      <td>1996.0</td>\n",
       "      <td>NaN</td>\n",
       "      <td>USA</td>\n",
       "      <td>Women</td>\n",
       "      <td>1327</td>\n",
       "      <td>Sarasota, FL 2017</td>\n",
       "      <td>NaT</td>\n",
       "      <td>NaN</td>\n",
       "      <td>NaN</td>\n",
       "      <td>02:16:00</td>\n",
       "      <td>16.0</td>\n",
       "      <td>30</td>\n",
       "      <td>20.0</td>\n",
       "      <td>30.0</td>\n",
       "      <td>0.533333</td>\n",
       "    </tr>\n",
       "    <tr>\n",
       "      <th>357</th>\n",
       "      <td>64</td>\n",
       "      <td>1983.0</td>\n",
       "      <td>NaN</td>\n",
       "      <td>JPN</td>\n",
       "      <td>Women</td>\n",
       "      <td>1180</td>\n",
       "      <td>Miyazaki 2019</td>\n",
       "      <td>NaT</td>\n",
       "      <td>NaN</td>\n",
       "      <td>NaN</td>\n",
       "      <td>01:59:32</td>\n",
       "      <td>1.0</td>\n",
       "      <td>49</td>\n",
       "      <td>41.0</td>\n",
       "      <td>49.0</td>\n",
       "      <td>0.020408</td>\n",
       "    </tr>\n",
       "    <tr>\n",
       "      <th>3593</th>\n",
       "      <td>2878</td>\n",
       "      <td>1992.0</td>\n",
       "      <td>NaN</td>\n",
       "      <td>CRC</td>\n",
       "      <td>Men</td>\n",
       "      <td>507</td>\n",
       "      <td>Playa Hermosa 2018</td>\n",
       "      <td>NaT</td>\n",
       "      <td>NaN</td>\n",
       "      <td>NaN</td>\n",
       "      <td>02:14:42</td>\n",
       "      <td>9.0</td>\n",
       "      <td>17</td>\n",
       "      <td>13.0</td>\n",
       "      <td>17.0</td>\n",
       "      <td>0.529412</td>\n",
       "    </tr>\n",
       "    <tr>\n",
       "      <th>22298</th>\n",
       "      <td>246</td>\n",
       "      <td>1971.0</td>\n",
       "      <td>NaN</td>\n",
       "      <td>ENG</td>\n",
       "      <td>Women</td>\n",
       "      <td>895</td>\n",
       "      <td>Eilat 2007</td>\n",
       "      <td>NaT</td>\n",
       "      <td>NaN</td>\n",
       "      <td>NaN</td>\n",
       "      <td>NaN</td>\n",
       "      <td>48.0</td>\n",
       "      <td>34</td>\n",
       "      <td>48.0</td>\n",
       "      <td>48.0</td>\n",
       "      <td>1.000000</td>\n",
       "    </tr>\n",
       "    <tr>\n",
       "      <th>5288</th>\n",
       "      <td>1736</td>\n",
       "      <td>1989.0</td>\n",
       "      <td>NaN</td>\n",
       "      <td>ENG</td>\n",
       "      <td>Women</td>\n",
       "      <td>747</td>\n",
       "      <td>Abu Dhabi 2017</td>\n",
       "      <td>NaT</td>\n",
       "      <td>NaN</td>\n",
       "      <td>NaN</td>\n",
       "      <td>02:03:46</td>\n",
       "      <td>2.0</td>\n",
       "      <td>30</td>\n",
       "      <td>27.0</td>\n",
       "      <td>30.0</td>\n",
       "      <td>0.066667</td>\n",
       "    </tr>\n",
       "  </tbody>\n",
       "</table>\n",
       "</div>"
      ],
      "text/plain": [
       "      subj_id     yob  age_y  nat gender race_id             race_inf  \\\n",
       "3815     3492  1996.0    NaN  USA  Women    1327    Sarasota, FL 2017   \n",
       "357        64  1983.0    NaN  JPN  Women    1180        Miyazaki 2019   \n",
       "3593     2878  1992.0    NaN  CRC    Men     507   Playa Hermosa 2018   \n",
       "22298     246  1971.0    NaN  ENG  Women     895           Eilat 2007   \n",
       "5288     1736  1989.0    NaN  ENG  Women     747       Abu Dhabi 2017   \n",
       "\n",
       "      race_date  race_y  race_m      time  rank  entries  maxRank  \\\n",
       "3815        NaT     NaN     NaN  02:16:00  16.0       30     20.0   \n",
       "357         NaT     NaN     NaN  01:59:32   1.0       49     41.0   \n",
       "3593        NaT     NaN     NaN  02:14:42   9.0       17     13.0   \n",
       "22298       NaT     NaN     NaN       NaN  48.0       34     48.0   \n",
       "5288        NaT     NaN     NaN  02:03:46   2.0       30     27.0   \n",
       "\n",
       "       participants  rankNorm  \n",
       "3815           30.0  0.533333  \n",
       "357            49.0  0.020408  \n",
       "3593           17.0  0.529412  \n",
       "22298          48.0  1.000000  \n",
       "5288           30.0  0.066667  "
      ]
     },
     "execution_count": 16,
     "metadata": {},
     "output_type": "execute_result"
    }
   ],
   "source": [
    "df[df['race_y'].isnull()].sample(5)"
   ]
  },
  {
   "cell_type": "code",
   "execution_count": 17,
   "metadata": {},
   "outputs": [],
   "source": [
    "df['race_y1'] = df['race_inf'].str.extract(r'(\\d{4})', expand = True) #Extract Year from Event Name to variable race_y1\n",
    "df['race_y'] = df['race_y'].fillna(df['race_y1'].astype(float)) #Where race_y is NA, fill in value from race_y1"
   ]
  },
  {
   "cell_type": "markdown",
   "metadata": {},
   "source": [
    "Furthermore, I want to store the races themselves as a variable, but without the information for the year. Miyazaki 2019 should be the same as Miyazaki 2018. I will also delete some additional comments in the names that for example mention the US-State behind a comma. "
   ]
  },
  {
   "cell_type": "code",
   "execution_count": 18,
   "metadata": {},
   "outputs": [],
   "source": [
    "df['race_inf'] = df['race_inf'].str.split(',').str[0] #Delete state abbreviations etc in event name (behind comma)\n",
    "df['race_inf'] = df['race_inf'].str.replace('\\d+', '') #Delete Event Year from Event Name\n",
    "df['race_inf'] = df['race_inf'].str.strip() #Delete Lead and Tail Whitespace from Event Name\n",
    "\n",
    "# df.loc[~df['rank'].isin([\"1\",\"2\",\"3\",\"4\",\"5\",\"6\",\"7\",\"8\",\"9\",\"10\"]),'rank'] = \"11\" #Recode not Top10 Ranks to Rank 11"
   ]
  },
  {
   "cell_type": "markdown",
   "metadata": {},
   "source": [
    "I fill in the missing age values by subtracting the year of birth from the year in which the races took place. "
   ]
  },
  {
   "cell_type": "code",
   "execution_count": 19,
   "metadata": {},
   "outputs": [],
   "source": [
    "df['age_y'] = df['age_y'].fillna(df['race_y'] - df['yob']) #Where Age is missing, subtract birth year from event year to get age\n",
    "df = df[df['age_y'].notnull()] # Only keep lines where we have Age "
   ]
  },
  {
   "cell_type": "markdown",
   "metadata": {},
   "source": [
    "### Create Dataset for Forcasting 'rank' as categorical Variable"
   ]
  },
  {
   "cell_type": "code",
   "execution_count": 20,
   "metadata": {},
   "outputs": [
    {
     "data": {
      "text/html": [
       "<div>\n",
       "<style scoped>\n",
       "    .dataframe tbody tr th:only-of-type {\n",
       "        vertical-align: middle;\n",
       "    }\n",
       "\n",
       "    .dataframe tbody tr th {\n",
       "        vertical-align: top;\n",
       "    }\n",
       "\n",
       "    .dataframe thead th {\n",
       "        text-align: right;\n",
       "    }\n",
       "</style>\n",
       "<table border=\"1\" class=\"dataframe\">\n",
       "  <thead>\n",
       "    <tr style=\"text-align: right;\">\n",
       "      <th></th>\n",
       "      <th>subj_id</th>\n",
       "      <th>age_y</th>\n",
       "      <th>nat</th>\n",
       "      <th>gender</th>\n",
       "      <th>race_inf</th>\n",
       "      <th>race_y</th>\n",
       "      <th>participants</th>\n",
       "      <th>rank</th>\n",
       "    </tr>\n",
       "  </thead>\n",
       "  <tbody>\n",
       "    <tr>\n",
       "      <th>0</th>\n",
       "      <td>2833</td>\n",
       "      <td>30.0</td>\n",
       "      <td>SRB</td>\n",
       "      <td>Men</td>\n",
       "      <td>Chennai</td>\n",
       "      <td>2020.0</td>\n",
       "      <td>52.0</td>\n",
       "      <td>1.0</td>\n",
       "    </tr>\n",
       "    <tr>\n",
       "      <th>1</th>\n",
       "      <td>2869</td>\n",
       "      <td>21.0</td>\n",
       "      <td>HKG</td>\n",
       "      <td>Men</td>\n",
       "      <td>Chennai</td>\n",
       "      <td>2020.0</td>\n",
       "      <td>52.0</td>\n",
       "      <td>2.0</td>\n",
       "    </tr>\n",
       "    <tr>\n",
       "      <th>2</th>\n",
       "      <td>831</td>\n",
       "      <td>36.0</td>\n",
       "      <td>POL</td>\n",
       "      <td>Men</td>\n",
       "      <td>Chennai</td>\n",
       "      <td>2020.0</td>\n",
       "      <td>52.0</td>\n",
       "      <td>4.0</td>\n",
       "    </tr>\n",
       "    <tr>\n",
       "      <th>3</th>\n",
       "      <td>869</td>\n",
       "      <td>21.0</td>\n",
       "      <td>KAZ</td>\n",
       "      <td>Men</td>\n",
       "      <td>Chennai</td>\n",
       "      <td>2020.0</td>\n",
       "      <td>52.0</td>\n",
       "      <td>5.0</td>\n",
       "    </tr>\n",
       "    <tr>\n",
       "      <th>4</th>\n",
       "      <td>1597</td>\n",
       "      <td>23.0</td>\n",
       "      <td>HKG</td>\n",
       "      <td>Men</td>\n",
       "      <td>Chennai</td>\n",
       "      <td>2020.0</td>\n",
       "      <td>52.0</td>\n",
       "      <td>7.0</td>\n",
       "    </tr>\n",
       "  </tbody>\n",
       "</table>\n",
       "</div>"
      ],
      "text/plain": [
       "  subj_id  age_y  nat gender race_inf  race_y  participants  rank\n",
       "0    2833   30.0  SRB    Men  Chennai  2020.0          52.0   1.0\n",
       "1    2869   21.0  HKG    Men  Chennai  2020.0          52.0   2.0\n",
       "2     831   36.0  POL    Men  Chennai  2020.0          52.0   4.0\n",
       "3     869   21.0  KAZ    Men  Chennai  2020.0          52.0   5.0\n",
       "4    1597   23.0  HKG    Men  Chennai  2020.0          52.0   7.0"
      ]
     },
     "execution_count": 20,
     "metadata": {},
     "output_type": "execute_result"
    }
   ],
   "source": [
    "df1 = df[['subj_id','age_y','nat','gender','race_inf','race_y','participants','rank']]\n",
    "df1.head()\n",
    "# dfMen = df1[df1['gender']==\"Men\"]\n",
    "#df1 = df1[df1['gender']==\"Women\"]\n",
    "#df1.describe(include='all')"
   ]
  },
  {
   "cell_type": "markdown",
   "metadata": {},
   "source": [
    "### Number Encoding of Categorical Variables"
   ]
  },
  {
   "cell_type": "code",
   "execution_count": 21,
   "metadata": {},
   "outputs": [],
   "source": [
    "from sklearn.preprocessing import LabelEncoder\n",
    "le = LabelEncoder()"
   ]
  },
  {
   "cell_type": "code",
   "execution_count": 22,
   "metadata": {},
   "outputs": [
    {
     "data": {
      "text/plain": [
       "'\\ndfleMen = dfle[dfle[\\'gender\\'] == \"Men\"].copy()\\ndfleMen = dfleMen.drop([\\'gender\\'],axis=\\'columns\\')\\ndfleWomen = dfle[dfle[\\'gender\\'] == \"Women\"].copy()\\ndfleWomen = dfleWomen.drop([\\'gender\\'],axis=\\'columns\\')\\n'"
      ]
     },
     "execution_count": 22,
     "metadata": {},
     "output_type": "execute_result"
    }
   ],
   "source": [
    "dfle = df1.copy()\n",
    "dfle['subj_id'] = le.fit_transform(dfle['subj_id'])\n",
    "dfle['nat'] = le.fit_transform(dfle['nat'])\n",
    "dfle['race_inf'] = le.fit_transform(dfle['race_inf'])\n",
    "dfle['gender'] = le.fit_transform(dfle['gender'])\n",
    "#dfle['race_y'] = le.fit_transform(dfle['race_y'])\n",
    "\n",
    "\n",
    "'''\n",
    "dfleMen = dfle[dfle['gender'] == \"Men\"].copy()\n",
    "dfleMen = dfleMen.drop(['gender'],axis='columns')\n",
    "dfleWomen = dfle[dfle['gender'] == \"Women\"].copy()\n",
    "dfleWomen = dfleWomen.drop(['gender'],axis='columns')\n",
    "'''"
   ]
  },
  {
   "cell_type": "markdown",
   "metadata": {},
   "source": [
    "### Train/Test Split"
   ]
  },
  {
   "cell_type": "code",
   "execution_count": 23,
   "metadata": {},
   "outputs": [],
   "source": [
    "from sklearn.model_selection import train_test_split\n",
    "X_train, X_test, y_train, y_test = train_test_split(\n",
    "    dfle.drop(['rank'],axis='columns'),\n",
    "    dfle['rank'],\n",
    "    random_state=42,\n",
    "    test_size=0.2)"
   ]
  },
  {
   "cell_type": "markdown",
   "metadata": {},
   "source": [
    "### Regular Decision Tree"
   ]
  },
  {
   "cell_type": "code",
   "execution_count": 24,
   "metadata": {},
   "outputs": [],
   "source": [
    "from sklearn import tree"
   ]
  },
  {
   "cell_type": "code",
   "execution_count": 25,
   "metadata": {},
   "outputs": [],
   "source": [
    "model = tree.DecisionTreeClassifier()"
   ]
  },
  {
   "cell_type": "code",
   "execution_count": 26,
   "metadata": {},
   "outputs": [
    {
     "data": {
      "text/plain": [
       "DecisionTreeClassifier(ccp_alpha=0.0, class_weight=None, criterion='gini',\n",
       "                       max_depth=None, max_features=None, max_leaf_nodes=None,\n",
       "                       min_impurity_decrease=0.0, min_impurity_split=None,\n",
       "                       min_samples_leaf=1, min_samples_split=2,\n",
       "                       min_weight_fraction_leaf=0.0, presort='deprecated',\n",
       "                       random_state=None, splitter='best')"
      ]
     },
     "execution_count": 26,
     "metadata": {},
     "output_type": "execute_result"
    }
   ],
   "source": [
    "model.fit(X_train,y_train)"
   ]
  },
  {
   "cell_type": "code",
   "execution_count": 27,
   "metadata": {},
   "outputs": [
    {
     "data": {
      "text/plain": [
       "0.06191950464396285"
      ]
     },
     "execution_count": 27,
     "metadata": {},
     "output_type": "execute_result"
    }
   ],
   "source": [
    "model.score(X_test,y_test)"
   ]
  },
  {
   "cell_type": "code",
   "execution_count": 28,
   "metadata": {},
   "outputs": [],
   "source": [
    "y_predicted = model.predict(X_test)"
   ]
  },
  {
   "cell_type": "code",
   "execution_count": 29,
   "metadata": {},
   "outputs": [
    {
     "data": {
      "text/plain": [
       "array([[38, 33, 24, ...,  0,  0,  0],\n",
       "       [33, 20, 29, ...,  1,  1,  0],\n",
       "       [27, 20, 15, ...,  0,  0,  0],\n",
       "       ...,\n",
       "       [ 0,  0,  0, ...,  0,  0,  0],\n",
       "       [ 0,  0,  0, ...,  0,  1,  0],\n",
       "       [ 0,  0,  0, ...,  0,  0,  1]], dtype=int64)"
      ]
     },
     "execution_count": 29,
     "metadata": {},
     "output_type": "execute_result"
    }
   ],
   "source": [
    "from sklearn.metrics import confusion_matrix\n",
    "labels = np.unique(y_test)\n",
    "cm = confusion_matrix(y_test, y_predicted,labels=labels)\n",
    "cm\n",
    "#cm = confusion_matrix(y_test, y_predicted, rownames=['True'], colnames=['Predicted'], labels=labels)\n",
    "\n",
    "#pd.set_option('display.max_rows',74)\n",
    "#pd.set_option('display.max_columns',74)\n",
    "\n",
    "#pd.DataFrame(cm, index=labels, columns=labels)"
   ]
  },
  {
   "cell_type": "code",
   "execution_count": 30,
   "metadata": {},
   "outputs": [
    {
     "data": {
      "text/plain": [
       "<matplotlib.axes._subplots.AxesSubplot at 0x245719347b8>"
      ]
     },
     "execution_count": 30,
     "metadata": {},
     "output_type": "execute_result"
    },
    {
     "data": {
      "image/png": "[encoded data removed]",
      "text/plain": [
       "<Figure size 1440x864 with 4 Axes>"
      ]
     },
     "metadata": {
      "needs_background": "light"
     },
     "output_type": "display_data"
    }
   ],
   "source": [
    "sumOfTruePositive = []\n",
    "sumOfTrue = []\n",
    "sumOfPredicted = []\n",
    "\n",
    "for i in range(cm.shape[0]):\n",
    "    x = cm[i,i]\n",
    "    sumOfTruePositive.append(x)\n",
    "    y = sum(cm[i,:])\n",
    "    sumOfTrue.append(y)\n",
    "    z = sum(cm[:,i])\n",
    "    sumOfPredicted.append(z)\n",
    "    \n",
    "recall = np.array(sumOfTruePositive)/np.array(sumOfTrue)\n",
    "precision = np.array(sumOfTruePositive)/np.array(sumOfPredicted)\n",
    "\n",
    "resultDict = {'Rank':labels,'Recall':recall, 'Precision':precision, 'TotalTrue':sumOfTrue, 'TotalPredicted':sumOfPredicted}\n",
    "resultDf = pd.DataFrame(resultDict)\n",
    "\n",
    "fig = plt.figure(figsize=(20,12))\n",
    "ax1 = fig.add_subplot(411)\n",
    "ax2 = fig.add_subplot(412)\n",
    "ax3 = fig.add_subplot(413)\n",
    "ax4 = fig.add_subplot(414)\n",
    "\n",
    "resultDf.plot.bar(x='Rank', y='TotalTrue',ax=ax1)\n",
    "resultDf.plot.bar(x='Rank', y='TotalPredicted',ax=ax2)\n",
    "resultDf.plot.bar(x='Rank', y='Recall',ax=ax3)\n",
    "resultDf.plot.bar(x='Rank', y='Precision',ax=ax4)"
   ]
  },
  {
   "cell_type": "markdown",
   "metadata": {},
   "source": [
    "### Random Forest"
   ]
  },
  {
   "cell_type": "code",
   "execution_count": 31,
   "metadata": {},
   "outputs": [
    {
     "data": {
      "text/plain": [
       "RandomForestClassifier(bootstrap=True, ccp_alpha=0.0, class_weight=None,\n",
       "                       criterion='entropy', max_depth=None, max_features='auto',\n",
       "                       max_leaf_nodes=None, max_samples=None,\n",
       "                       min_impurity_decrease=0.0, min_impurity_split=None,\n",
       "                       min_samples_leaf=1, min_samples_split=2,\n",
       "                       min_weight_fraction_leaf=0.0, n_estimators=30,\n",
       "                       n_jobs=None, oob_score=False, random_state=None,\n",
       "                       verbose=0, warm_start=False)"
      ]
     },
     "execution_count": 31,
     "metadata": {},
     "output_type": "execute_result"
    }
   ],
   "source": [
    "from sklearn.ensemble import RandomForestClassifier\n",
    "model = RandomForestClassifier(criterion='entropy', n_estimators=30)\n",
    "model.fit(X_train,y_train)"
   ]
  },
  {
   "cell_type": "code",
   "execution_count": 32,
   "metadata": {},
   "outputs": [
    {
     "data": {
      "text/plain": [
       "0.06656346749226007"
      ]
     },
     "execution_count": 32,
     "metadata": {},
     "output_type": "execute_result"
    }
   ],
   "source": [
    "model.score(X_test,y_test)"
   ]
  },
  {
   "cell_type": "code",
   "execution_count": 33,
   "metadata": {},
   "outputs": [],
   "source": [
    "y_predicted = model.predict(X_test)"
   ]
  },
  {
   "cell_type": "code",
   "execution_count": 34,
   "metadata": {},
   "outputs": [],
   "source": [
    "from sklearn.metrics import confusion_matrix\n",
    "labels = np.unique(y_test)\n",
    "cm = confusion_matrix(y_test, y_predicted, labels=labels)\n",
    "\n",
    "#pd.set_option('display.max_rows',74)\n",
    "#pd.set_option('display.max_columns',74)\n",
    "#pd.DataFrame(cm, index=labels, columns=labels)\n",
    "#fig = plt.figure()\n",
    "#ax = fig.add_subplot(111)\n",
    "#ax.matshow(cm)"
   ]
  },
  {
   "cell_type": "code",
   "execution_count": 35,
   "metadata": {
    "scrolled": false
   },
   "outputs": [
    {
     "data": {
      "text/plain": [
       "<matplotlib.axes._subplots.AxesSubplot at 0x2450ebd3860>"
      ]
     },
     "execution_count": 35,
     "metadata": {},
     "output_type": "execute_result"
    },
    {
     "data": {
      "image/png": "[encoded data removed]",
      "text/plain": [
       "<Figure size 1440x864 with 4 Axes>"
      ]
     },
     "metadata": {
      "needs_background": "light"
     },
     "output_type": "display_data"
    }
   ],
   "source": [
    "sumOfTruePositive = []\n",
    "sumOfTrue = []\n",
    "sumOfPredicted = []\n",
    "\n",
    "for i in range(cm.shape[0]):\n",
    "    x = cm[i,i]\n",
    "    sumOfTruePositive.append(x)\n",
    "    y = sum(cm[i,:])\n",
    "    sumOfTrue.append(y)\n",
    "    z = sum(cm[:,i])\n",
    "    sumOfPredicted.append(z)\n",
    "    \n",
    "recall = np.array(sumOfTruePositive)/np.array(sumOfTrue)\n",
    "precision = np.array(sumOfTruePositive)/np.array(sumOfPredicted)\n",
    "\n",
    "resultDict = {'Rank':labels,'Recall':recall, 'Precision':precision, 'TotalTrue':sumOfTrue, 'TotalPredicted':sumOfPredicted}\n",
    "resultDf = pd.DataFrame(resultDict)\n",
    "\n",
    "fig = plt.figure(figsize=(20,12))\n",
    "ax1 = fig.add_subplot(411)\n",
    "ax2 = fig.add_subplot(412)\n",
    "ax3 = fig.add_subplot(413)\n",
    "ax4 = fig.add_subplot(414)\n",
    "\n",
    "resultDf.plot.bar(x='Rank', y='TotalTrue',ax=ax1)\n",
    "resultDf.plot.bar(x='Rank', y='TotalPredicted',ax=ax2)\n",
    "resultDf.plot.bar(x='Rank', y='Recall',ax=ax3)\n",
    "resultDf.plot.bar(x='Rank', y='Precision',ax=ax4)"
   ]
  },
  {
   "cell_type": "markdown",
   "metadata": {},
   "source": [
    "### Tryout: Calculation Pseudo NDCG Score for comparison with RankNet Results"
   ]
  },
  {
   "cell_type": "markdown",
   "metadata": {},
   "source": [
    "I tried to calculate a Pseudo NDCG Score for comparing the classificatin results to the RankNet Algorithm. Unfortunately this didn't work out nicely. I probably would need to do the sampling based on race_id in order to get a nice \"Result-Set\" structure. Like this I receive a lot of NDCG Score = 1.0 Results."
   ]
  },
  {
   "cell_type": "code",
   "execution_count": 36,
   "metadata": {},
   "outputs": [],
   "source": [
    "ndcgDf = X_test[['race_inf','race_y','gender']].copy()\n",
    "ndcgDf['rank'] = y_test\n",
    "ndcgDf['predicted'] = y_predicted"
   ]
  },
  {
   "cell_type": "code",
   "execution_count": 37,
   "metadata": {},
   "outputs": [],
   "source": [
    "ndcgDf1 = ndcgDf.groupby(['race_inf','race_y','gender'],group_keys=False).apply(pd.DataFrame.sort_values,'rank')\n",
    "ndcgDf1['realRank'] = ndcgDf1.groupby(['race_inf','race_y','gender'])['rank'].rank(ascending=True)\n",
    "ndcgDf1['predRank'] = ndcgDf1.groupby(['race_inf','race_y','gender'])['predicted'].rank(ascending=True)\n",
    "ndcgDf1['realRelevance'] = ndcgDf1.groupby(['race_inf','race_y','gender'])['rank'].rank(ascending=False)\n",
    "ndcgDf1['realRelevance_V2'] = 1/ndcgDf1['realRank']\n",
    "ndcgDf1['ndcgBaseIdeal'] = ndcgDf1['realRelevance_V2']/np.log2(ndcgDf1['realRank']+1)\n",
    "ndcgDf1['ndcgBasePred'] = ndcgDf1['realRelevance_V2']/np.log2(ndcgDf1['predRank']+1)"
   ]
  },
  {
   "cell_type": "code",
   "execution_count": 38,
   "metadata": {},
   "outputs": [
    {
     "data": {
      "text/html": [
       "<div>\n",
       "<style scoped>\n",
       "    .dataframe tbody tr th:only-of-type {\n",
       "        vertical-align: middle;\n",
       "    }\n",
       "\n",
       "    .dataframe tbody tr th {\n",
       "        vertical-align: top;\n",
       "    }\n",
       "\n",
       "    .dataframe thead th {\n",
       "        text-align: right;\n",
       "    }\n",
       "</style>\n",
       "<table border=\"1\" class=\"dataframe\">\n",
       "  <thead>\n",
       "    <tr style=\"text-align: right;\">\n",
       "      <th></th>\n",
       "      <th>race_inf</th>\n",
       "      <th>race_y</th>\n",
       "      <th>gender</th>\n",
       "      <th>rank</th>\n",
       "      <th>predicted</th>\n",
       "      <th>realRank</th>\n",
       "      <th>predRank</th>\n",
       "      <th>realRelevance</th>\n",
       "      <th>realRelevance_V2</th>\n",
       "      <th>ndcgBaseIdeal</th>\n",
       "      <th>ndcgBasePred</th>\n",
       "    </tr>\n",
       "  </thead>\n",
       "  <tbody>\n",
       "    <tr>\n",
       "      <th>6835</th>\n",
       "      <td>0</td>\n",
       "      <td>2016.0</td>\n",
       "      <td>0</td>\n",
       "      <td>3.0</td>\n",
       "      <td>35.0</td>\n",
       "      <td>1.0</td>\n",
       "      <td>6.5</td>\n",
       "      <td>11.0</td>\n",
       "      <td>1.000000</td>\n",
       "      <td>1.000000</td>\n",
       "      <td>0.344010</td>\n",
       "    </tr>\n",
       "    <tr>\n",
       "      <th>6845</th>\n",
       "      <td>0</td>\n",
       "      <td>2016.0</td>\n",
       "      <td>0</td>\n",
       "      <td>15.0</td>\n",
       "      <td>2.0</td>\n",
       "      <td>2.0</td>\n",
       "      <td>1.0</td>\n",
       "      <td>10.0</td>\n",
       "      <td>0.500000</td>\n",
       "      <td>0.315465</td>\n",
       "      <td>0.500000</td>\n",
       "    </tr>\n",
       "    <tr>\n",
       "      <th>6846</th>\n",
       "      <td>0</td>\n",
       "      <td>2016.0</td>\n",
       "      <td>0</td>\n",
       "      <td>16.0</td>\n",
       "      <td>9.0</td>\n",
       "      <td>3.0</td>\n",
       "      <td>2.0</td>\n",
       "      <td>9.0</td>\n",
       "      <td>0.333333</td>\n",
       "      <td>0.166667</td>\n",
       "      <td>0.210310</td>\n",
       "    </tr>\n",
       "    <tr>\n",
       "      <th>6851</th>\n",
       "      <td>0</td>\n",
       "      <td>2016.0</td>\n",
       "      <td>0</td>\n",
       "      <td>21.0</td>\n",
       "      <td>56.0</td>\n",
       "      <td>4.0</td>\n",
       "      <td>10.5</td>\n",
       "      <td>8.0</td>\n",
       "      <td>0.250000</td>\n",
       "      <td>0.107669</td>\n",
       "      <td>0.070951</td>\n",
       "    </tr>\n",
       "    <tr>\n",
       "      <th>6852</th>\n",
       "      <td>0</td>\n",
       "      <td>2016.0</td>\n",
       "      <td>0</td>\n",
       "      <td>22.0</td>\n",
       "      <td>38.0</td>\n",
       "      <td>5.0</td>\n",
       "      <td>8.0</td>\n",
       "      <td>7.0</td>\n",
       "      <td>0.200000</td>\n",
       "      <td>0.077371</td>\n",
       "      <td>0.063093</td>\n",
       "    </tr>\n",
       "    <tr>\n",
       "      <th>6861</th>\n",
       "      <td>0</td>\n",
       "      <td>2016.0</td>\n",
       "      <td>0</td>\n",
       "      <td>32.0</td>\n",
       "      <td>34.0</td>\n",
       "      <td>6.0</td>\n",
       "      <td>5.0</td>\n",
       "      <td>6.0</td>\n",
       "      <td>0.166667</td>\n",
       "      <td>0.059368</td>\n",
       "      <td>0.064475</td>\n",
       "    </tr>\n",
       "    <tr>\n",
       "      <th>6865</th>\n",
       "      <td>0</td>\n",
       "      <td>2016.0</td>\n",
       "      <td>0</td>\n",
       "      <td>36.0</td>\n",
       "      <td>11.0</td>\n",
       "      <td>7.0</td>\n",
       "      <td>3.0</td>\n",
       "      <td>5.0</td>\n",
       "      <td>0.142857</td>\n",
       "      <td>0.047619</td>\n",
       "      <td>0.071429</td>\n",
       "    </tr>\n",
       "    <tr>\n",
       "      <th>6877</th>\n",
       "      <td>0</td>\n",
       "      <td>2016.0</td>\n",
       "      <td>0</td>\n",
       "      <td>50.0</td>\n",
       "      <td>56.0</td>\n",
       "      <td>8.0</td>\n",
       "      <td>10.5</td>\n",
       "      <td>4.0</td>\n",
       "      <td>0.125000</td>\n",
       "      <td>0.039433</td>\n",
       "      <td>0.035475</td>\n",
       "    </tr>\n",
       "    <tr>\n",
       "      <th>6878</th>\n",
       "      <td>0</td>\n",
       "      <td>2016.0</td>\n",
       "      <td>0</td>\n",
       "      <td>51.0</td>\n",
       "      <td>13.0</td>\n",
       "      <td>9.0</td>\n",
       "      <td>4.0</td>\n",
       "      <td>3.0</td>\n",
       "      <td>0.111111</td>\n",
       "      <td>0.033448</td>\n",
       "      <td>0.047853</td>\n",
       "    </tr>\n",
       "    <tr>\n",
       "      <th>6887</th>\n",
       "      <td>0</td>\n",
       "      <td>2016.0</td>\n",
       "      <td>0</td>\n",
       "      <td>56.0</td>\n",
       "      <td>44.0</td>\n",
       "      <td>10.5</td>\n",
       "      <td>9.0</td>\n",
       "      <td>1.5</td>\n",
       "      <td>0.095238</td>\n",
       "      <td>0.027029</td>\n",
       "      <td>0.028670</td>\n",
       "    </tr>\n",
       "    <tr>\n",
       "      <th>6888</th>\n",
       "      <td>0</td>\n",
       "      <td>2016.0</td>\n",
       "      <td>0</td>\n",
       "      <td>56.0</td>\n",
       "      <td>35.0</td>\n",
       "      <td>10.5</td>\n",
       "      <td>6.5</td>\n",
       "      <td>1.5</td>\n",
       "      <td>0.095238</td>\n",
       "      <td>0.027029</td>\n",
       "      <td>0.032763</td>\n",
       "    </tr>\n",
       "    <tr>\n",
       "      <th>6892</th>\n",
       "      <td>0</td>\n",
       "      <td>2016.0</td>\n",
       "      <td>1</td>\n",
       "      <td>7.0</td>\n",
       "      <td>27.0</td>\n",
       "      <td>1.0</td>\n",
       "      <td>3.0</td>\n",
       "      <td>9.0</td>\n",
       "      <td>1.000000</td>\n",
       "      <td>1.000000</td>\n",
       "      <td>0.500000</td>\n",
       "    </tr>\n",
       "    <tr>\n",
       "      <th>6895</th>\n",
       "      <td>0</td>\n",
       "      <td>2016.0</td>\n",
       "      <td>1</td>\n",
       "      <td>13.0</td>\n",
       "      <td>12.0</td>\n",
       "      <td>2.0</td>\n",
       "      <td>1.5</td>\n",
       "      <td>8.0</td>\n",
       "      <td>0.500000</td>\n",
       "      <td>0.315465</td>\n",
       "      <td>0.378235</td>\n",
       "    </tr>\n",
       "    <tr>\n",
       "      <th>6900</th>\n",
       "      <td>0</td>\n",
       "      <td>2016.0</td>\n",
       "      <td>1</td>\n",
       "      <td>19.0</td>\n",
       "      <td>50.0</td>\n",
       "      <td>3.0</td>\n",
       "      <td>8.0</td>\n",
       "      <td>7.0</td>\n",
       "      <td>0.333333</td>\n",
       "      <td>0.166667</td>\n",
       "      <td>0.105155</td>\n",
       "    </tr>\n",
       "    <tr>\n",
       "      <th>6901</th>\n",
       "      <td>0</td>\n",
       "      <td>2016.0</td>\n",
       "      <td>1</td>\n",
       "      <td>20.0</td>\n",
       "      <td>50.0</td>\n",
       "      <td>4.0</td>\n",
       "      <td>8.0</td>\n",
       "      <td>6.0</td>\n",
       "      <td>0.250000</td>\n",
       "      <td>0.107669</td>\n",
       "      <td>0.078866</td>\n",
       "    </tr>\n",
       "  </tbody>\n",
       "</table>\n",
       "</div>"
      ],
      "text/plain": [
       "      race_inf  race_y  gender  rank  predicted  realRank  predRank  \\\n",
       "6835         0  2016.0       0   3.0       35.0       1.0       6.5   \n",
       "6845         0  2016.0       0  15.0        2.0       2.0       1.0   \n",
       "6846         0  2016.0       0  16.0        9.0       3.0       2.0   \n",
       "6851         0  2016.0       0  21.0       56.0       4.0      10.5   \n",
       "6852         0  2016.0       0  22.0       38.0       5.0       8.0   \n",
       "6861         0  2016.0       0  32.0       34.0       6.0       5.0   \n",
       "6865         0  2016.0       0  36.0       11.0       7.0       3.0   \n",
       "6877         0  2016.0       0  50.0       56.0       8.0      10.5   \n",
       "6878         0  2016.0       0  51.0       13.0       9.0       4.0   \n",
       "6887         0  2016.0       0  56.0       44.0      10.5       9.0   \n",
       "6888         0  2016.0       0  56.0       35.0      10.5       6.5   \n",
       "6892         0  2016.0       1   7.0       27.0       1.0       3.0   \n",
       "6895         0  2016.0       1  13.0       12.0       2.0       1.5   \n",
       "6900         0  2016.0       1  19.0       50.0       3.0       8.0   \n",
       "6901         0  2016.0       1  20.0       50.0       4.0       8.0   \n",
       "\n",
       "      realRelevance  realRelevance_V2  ndcgBaseIdeal  ndcgBasePred  \n",
       "6835           11.0          1.000000       1.000000      0.344010  \n",
       "6845           10.0          0.500000       0.315465      0.500000  \n",
       "6846            9.0          0.333333       0.166667      0.210310  \n",
       "6851            8.0          0.250000       0.107669      0.070951  \n",
       "6852            7.0          0.200000       0.077371      0.063093  \n",
       "6861            6.0          0.166667       0.059368      0.064475  \n",
       "6865            5.0          0.142857       0.047619      0.071429  \n",
       "6877            4.0          0.125000       0.039433      0.035475  \n",
       "6878            3.0          0.111111       0.033448      0.047853  \n",
       "6887            1.5          0.095238       0.027029      0.028670  \n",
       "6888            1.5          0.095238       0.027029      0.032763  \n",
       "6892            9.0          1.000000       1.000000      0.500000  \n",
       "6895            8.0          0.500000       0.315465      0.378235  \n",
       "6900            7.0          0.333333       0.166667      0.105155  \n",
       "6901            6.0          0.250000       0.107669      0.078866  "
      ]
     },
     "execution_count": 38,
     "metadata": {},
     "output_type": "execute_result"
    }
   ],
   "source": [
    "ndcgDf1.head(15)"
   ]
  },
  {
   "cell_type": "code",
   "execution_count": 39,
   "metadata": {},
   "outputs": [
    {
     "data": {
      "text/plain": [
       "<matplotlib.axes._subplots.AxesSubplot at 0x245128eba20>"
      ]
     },
     "execution_count": 39,
     "metadata": {},
     "output_type": "execute_result"
    },
    {
     "data": {
      "image/png": "[encoded data removed]",
      "text/plain": [
       "<Figure size 432x288 with 1 Axes>"
      ]
     },
     "metadata": {
      "needs_background": "light"
     },
     "output_type": "display_data"
    }
   ],
   "source": [
    "ndcgDf2 = ndcgDf1.groupby(['race_inf','race_y','gender'],group_keys=False)[['ndcgBaseIdeal','ndcgBasePred']].sum()\n",
    "ndcgScores = ndcgDf2['ndcgBasePred'] / ndcgDf2['ndcgBaseIdeal']\n",
    "ndcgScores.plot.hist(bins=20, alpha=1)"
   ]
  },
  {
   "cell_type": "markdown",
   "metadata": {},
   "source": [
    "### Logistic Regression"
   ]
  },
  {
   "cell_type": "markdown",
   "metadata": {},
   "source": [
    "Logistic Regression doesn't work, because there aren't sufficient cases for each combination of categorical variables (?). Some subj_id s only exist once. Also some test-dataset subj_id aren't contained in the train-dataset. Correct(?)"
   ]
  },
  {
   "cell_type": "code",
   "execution_count": 40,
   "metadata": {},
   "outputs": [],
   "source": [
    "from sklearn.linear_model import LogisticRegression\n",
    "model = LogisticRegression()"
   ]
  },
  {
   "cell_type": "code",
   "execution_count": 41,
   "metadata": {
    "scrolled": false
   },
   "outputs": [
    {
     "name": "stderr",
     "output_type": "stream",
     "text": [
      "C:\\Users\\finns\\Anaconda3\\envs\\Deep Learning CAS 2020\\lib\\site-packages\\sklearn\\linear_model\\_logistic.py:940: ConvergenceWarning: lbfgs failed to converge (status=1):\n",
      "STOP: TOTAL NO. of ITERATIONS REACHED LIMIT.\n",
      "\n",
      "Increase the number of iterations (max_iter) or scale the data as shown in:\n",
      "    https://scikit-learn.org/stable/modules/preprocessing.html\n",
      "Please also refer to the documentation for alternative solver options:\n",
      "    https://scikit-learn.org/stable/modules/linear_model.html#logistic-regression\n",
      "  extra_warning_msg=_LOGISTIC_SOLVER_CONVERGENCE_MSG)\n"
     ]
    },
    {
     "data": {
      "text/plain": [
       "LogisticRegression(C=1.0, class_weight=None, dual=False, fit_intercept=True,\n",
       "                   intercept_scaling=1, l1_ratio=None, max_iter=1500,\n",
       "                   multi_class='auto', n_jobs=None, penalty='l2',\n",
       "                   random_state=None, solver='lbfgs', tol=0.0001, verbose=0,\n",
       "                   warm_start=False)"
      ]
     },
     "execution_count": 41,
     "metadata": {},
     "output_type": "execute_result"
    }
   ],
   "source": [
    "model.fit(X_train,y_train)"
   ]
  },
  {
   "cell_type": "markdown",
   "metadata": {},
   "source": [
    "In order to be able to do a logistic regression I delete the variable \"subj_id\", \"race_y\" and \"race_inf\" from the test/train datasets in order for the model to converge. "
   ]
  },
  {
   "cell_type": "code",
   "execution_count": 56,
   "metadata": {},
   "outputs": [],
   "source": [
    "dfLog = df[['age_y','nat','gender','rank']]\n",
    "#'race_inf',\n",
    "dfLogLe = dfLog.copy()\n",
    "dfLogLe['nat'] = le.fit_transform(dfLogLe['nat'])\n",
    "#dfLogLe['race_inf'] = le.fit_transform(dfLogLe['race_inf'])\n",
    "dfLogLe['gender'] = le.fit_transform(dfLogLe['gender'])\n",
    "\n",
    "from sklearn.model_selection import train_test_split\n",
    "X_train1, X_test1, y_train1, y_test1 = train_test_split(\n",
    "    dfLogLe.drop(['rank'],axis='columns'),\n",
    "    dfLogLe['rank'],\n",
    "    random_state=42,\n",
    "    test_size=0.2)"
   ]
  },
  {
   "cell_type": "code",
   "execution_count": 57,
   "metadata": {
    "scrolled": true
   },
   "outputs": [
    {
     "data": {
      "text/plain": [
       "SVC(C=1.0, break_ties=False, cache_size=200, class_weight=None, coef0=0.0,\n",
       "    decision_function_shape='ovr', degree=3, gamma=0.01, kernel='rbf',\n",
       "    max_iter=-1, probability=False, random_state=None, shrinking=True,\n",
       "    tol=0.001, verbose=False)"
      ]
     },
     "execution_count": 57,
     "metadata": {},
     "output_type": "execute_result"
    }
   ],
   "source": [
    "model.fit(X_train1,y_train1)"
   ]
  },
  {
   "cell_type": "code",
   "execution_count": 58,
   "metadata": {},
   "outputs": [
    {
     "data": {
      "text/plain": [
       "0.048331613347093225"
      ]
     },
     "execution_count": 58,
     "metadata": {},
     "output_type": "execute_result"
    }
   ],
   "source": [
    "model.score(X_test1, y_test1)"
   ]
  },
  {
   "cell_type": "code",
   "execution_count": 59,
   "metadata": {},
   "outputs": [],
   "source": [
    "y_predicted1 = model.predict(X_test1)"
   ]
  },
  {
   "cell_type": "code",
   "execution_count": 60,
   "metadata": {},
   "outputs": [],
   "source": [
    "from sklearn.metrics import confusion_matrix\n",
    "labels = np.unique(y_test1)\n",
    "cm = confusion_matrix(y_test1, y_predicted1, labels=labels)"
   ]
  },
  {
   "cell_type": "code",
   "execution_count": 61,
   "metadata": {},
   "outputs": [
    {
     "name": "stderr",
     "output_type": "stream",
     "text": [
      "C:\\Users\\finns\\Anaconda3\\envs\\Deep Learning CAS 2020\\lib\\site-packages\\ipykernel_launcher.py:14: RuntimeWarning: invalid value encountered in true_divide\n",
      "  \n"
     ]
    },
    {
     "data": {
      "text/plain": [
       "<matplotlib.axes._subplots.AxesSubplot at 0x2452350c6d8>"
      ]
     },
     "execution_count": 61,
     "metadata": {},
     "output_type": "execute_result"
    },
    {
     "data": {
      "image/png": "[encoded data removed]",
      "text/plain": [
       "<Figure size 1440x864 with 4 Axes>"
      ]
     },
     "metadata": {
      "needs_background": "light"
     },
     "output_type": "display_data"
    }
   ],
   "source": [
    "sumOfTruePositive = []\n",
    "sumOfTrue = []\n",
    "sumOfPredicted = []\n",
    "\n",
    "for i in range(cm.shape[0]):\n",
    "    x = cm[i,i]\n",
    "    sumOfTruePositive.append(x)\n",
    "    y = sum(cm[i,:])\n",
    "    sumOfTrue.append(y)\n",
    "    z = sum(cm[:,i])\n",
    "    sumOfPredicted.append(z)\n",
    "    \n",
    "recall = np.array(sumOfTruePositive)/np.array(sumOfTrue)\n",
    "precision = np.array(sumOfTruePositive)/np.array(sumOfPredicted)\n",
    "\n",
    "resultDict = {'Rank':labels,'Recall':recall, 'Precision':precision, 'TotalTrue':sumOfTrue, 'TotalPredicted':sumOfPredicted}\n",
    "resultDf = pd.DataFrame(resultDict)\n",
    "\n",
    "fig = plt.figure(figsize=(20,12))\n",
    "ax1 = fig.add_subplot(411)\n",
    "ax2 = fig.add_subplot(412)\n",
    "ax3 = fig.add_subplot(413)\n",
    "ax4 = fig.add_subplot(414)\n",
    "\n",
    "resultDf.plot.bar(x='Rank', y='TotalTrue',ax=ax1)\n",
    "resultDf.plot.bar(x='Rank', y='TotalPredicted',ax=ax2)\n",
    "resultDf.plot.bar(x='Rank', y='Recall',ax=ax3)\n",
    "resultDf.plot.bar(x='Rank', y='Precision',ax=ax4)"
   ]
  },
  {
   "cell_type": "markdown",
   "metadata": {},
   "source": [
    "### Support Vector Machine"
   ]
  },
  {
   "cell_type": "code",
   "execution_count": 48,
   "metadata": {},
   "outputs": [],
   "source": [
    "from sklearn.svm import SVC\n",
    "model = SVC(gamma = 0.01)\n",
    "# gamma = 0.01\n",
    "# C=1.0, gamma = 'auto', kernel = 'rbf'\n",
    "# Support Vector machine tries to maximize the \"margin\" between data points. \n",
    "# Gamma determines how many points are considered for the Margin. \n",
    "# High Gamma means only points close to the partitioning vecotr. \n",
    "# Low Gamma means also points that are farther away are considered. High gamma tends to do more overfitting. \n"
   ]
  },
  {
   "cell_type": "code",
   "execution_count": 49,
   "metadata": {},
   "outputs": [
    {
     "data": {
      "text/plain": [
       "SVC(C=1.0, break_ties=False, cache_size=200, class_weight=None, coef0=0.0,\n",
       "    decision_function_shape='ovr', degree=3, gamma=0.01, kernel='rbf',\n",
       "    max_iter=-1, probability=False, random_state=None, shrinking=True,\n",
       "    tol=0.001, verbose=False)"
      ]
     },
     "execution_count": 49,
     "metadata": {},
     "output_type": "execute_result"
    }
   ],
   "source": [
    "model.fit(X_train, y_train)"
   ]
  },
  {
   "cell_type": "code",
   "execution_count": 50,
   "metadata": {
    "scrolled": true
   },
   "outputs": [
    {
     "data": {
      "text/plain": [
       "0.048331613347093225"
      ]
     },
     "execution_count": 50,
     "metadata": {},
     "output_type": "execute_result"
    }
   ],
   "source": [
    "model.score(X_test, y_test)"
   ]
  },
  {
   "cell_type": "code",
   "execution_count": 51,
   "metadata": {},
   "outputs": [],
   "source": [
    "y_predicted = model.predict(X_test)"
   ]
  },
  {
   "cell_type": "code",
   "execution_count": 52,
   "metadata": {},
   "outputs": [],
   "source": [
    "from sklearn.metrics import confusion_matrix\n",
    "labels = np.unique(y_test)\n",
    "cm = confusion_matrix(y_test, y_predicted, labels=labels)\n",
    "\n",
    "#pd.set_option('display.max_rows',74)\n",
    "#pd.set_option('display.max_columns',74)\n",
    "#pd.DataFrame(cm, index=labels, columns=labels)\n",
    "#fig = plt.figure()\n",
    "#ax = fig.add_subplot(111)\n",
    "#ax.matshow(cm)"
   ]
  },
  {
   "cell_type": "code",
   "execution_count": 53,
   "metadata": {},
   "outputs": [
    {
     "name": "stderr",
     "output_type": "stream",
     "text": [
      "C:\\Users\\finns\\Anaconda3\\envs\\Deep Learning CAS 2020\\lib\\site-packages\\ipykernel_launcher.py:14: RuntimeWarning: invalid value encountered in true_divide\n",
      "  \n"
     ]
    },
    {
     "data": {
      "text/plain": [
       "<matplotlib.axes._subplots.AxesSubplot at 0x24519a27630>"
      ]
     },
     "execution_count": 53,
     "metadata": {},
     "output_type": "execute_result"
    },
    {
     "data": {
      "image/png": "[encoded data removed]",
      "text/plain": [
       "<Figure size 1440x864 with 4 Axes>"
      ]
     },
     "metadata": {
      "needs_background": "light"
     },
     "output_type": "display_data"
    }
   ],
   "source": [
    "sumOfTruePositive = []\n",
    "sumOfTrue = []\n",
    "sumOfPredicted = []\n",
    "\n",
    "for i in range(cm.shape[0]):\n",
    "    x = cm[i,i]\n",
    "    sumOfTruePositive.append(x)\n",
    "    y = sum(cm[i,:])\n",
    "    sumOfTrue.append(y)\n",
    "    z = sum(cm[:,i])\n",
    "    sumOfPredicted.append(z)\n",
    "    \n",
    "recall = np.array(sumOfTruePositive)/np.array(sumOfTrue)\n",
    "precision = np.array(sumOfTruePositive)/np.array(sumOfPredicted)\n",
    "\n",
    "resultDict = {'Rank':labels,'Recall':recall, 'Precision':precision, 'TotalTrue':sumOfTrue, 'TotalPredicted':sumOfPredicted}\n",
    "resultDf = pd.DataFrame(resultDict)\n",
    "\n",
    "fig = plt.figure(figsize=(20,12))\n",
    "ax1 = fig.add_subplot(411)\n",
    "ax2 = fig.add_subplot(412)\n",
    "ax3 = fig.add_subplot(413)\n",
    "ax4 = fig.add_subplot(414)\n",
    "\n",
    "resultDf.plot.bar(x='Rank', y='TotalTrue',ax=ax1)\n",
    "resultDf.plot.bar(x='Rank', y='TotalPredicted',ax=ax2)\n",
    "resultDf.plot.bar(x='Rank', y='Recall',ax=ax3)\n",
    "resultDf.plot.bar(x='Rank', y='Precision',ax=ax4)"
   ]
  },
  {
   "cell_type": "code",
   "execution_count": 54,
   "metadata": {},
   "outputs": [],
   "source": [
    "#Following Code chunks work a lot better to calculate precision and recall from the confusion matrix. Above I used a loop to do the same thing.\n",
    "\n",
    "#np.diagonal(cm)\n",
    "#np.diagonal(cm)/cm.sum(axis=1)\n",
    "#cm.sum(axis=1)"
   ]
  },
  {
   "cell_type": "code",
   "execution_count": 55,
   "metadata": {},
   "outputs": [],
   "source": [
    "# Explanation for SVM results: \n",
    "# https://stats.stackexchange.com/questions/125353/output-of-scikit-svm-in-multiclass-classification-always-gives-same-label"
   ]
  },
  {
   "cell_type": "markdown",
   "metadata": {},
   "source": [
    "### Tutorials\n",
    "https://www.youtube.com/watch?v=PHxYNGo8NcI => Decision Tree <br>\n",
    "https://www.youtube.com/watch?v=ok2s1vV9XW0 => Random Forest <br>\n",
    "https://www.youtube.com/watch?v=9yl6-HEY7_s => Dummy Variables and One Hot Encoding <br>\n",
    "https://www.youtube.com/watch?v=J5bXOOmkopc => Logistic Regression <br>\n",
    "https://www.youtube.com/watch?v=FB5EdxAGxQg => Support Vector Machine <br>\n",
    "https://www.datacamp.com/community/tutorials/deep-learning-python?utm_source=adwords_ppc&utm_campaignid=1655852085&utm_adgroupid=61045434462&utm_device=c&utm_keyword=%2Bkeras%20%2Btutorial&utm_matchtype=b&utm_network=g&utm_adpostion=&utm_creative=318880582449&utm_targetid=kwd-321066923947&utm_loc_interest_ms=&utm_loc_physical_ms=1003297&gclid=EAIaIQobChMIgZSiw_vQ6AIVibHtCh29xwhXEAAYASAAEgJfQvD_BwE => Deep Learning <br>\n",
    "https://mlexplained.com/2019/05/27/learning-to-rank-explained-with-code/ => LambdaRank  <br>\n",
    "https://towardsdatascience.com/evaluate-your-recommendation-engine-using-ndcg-759a851452d1 => ndcg Score"
   ]
  },
  {
   "cell_type": "code",
   "execution_count": null,
   "metadata": {},
   "outputs": [],
   "source": []
  }
 ],
 "metadata": {
  "kernelspec": {
   "display_name": "Python 3",
   "language": "python",
   "name": "python3"
  },
  "language_info": {
   "codemirror_mode": {
    "name": "ipython",
    "version": 3
   },
   "file_extension": ".py",
   "mimetype": "text/x-python",
   "name": "python",
   "nbconvert_exporter": "python",
   "pygments_lexer": "ipython3",
   "version": "3.6.10"
  }
 },
 "nbformat": 4,
 "nbformat_minor": 2
}
